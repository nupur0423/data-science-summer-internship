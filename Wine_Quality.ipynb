{
  "nbformat": 4,
  "nbformat_minor": 0,
  "metadata": {
    "colab": {
      "provenance": []
    },
    "kernelspec": {
      "name": "python3",
      "display_name": "Python 3"
    },
    "language_info": {
      "name": "python"
    }
  },
  "cells": [
    {
      "cell_type": "code",
      "execution_count": null,
      "metadata": {
        "id": "q56CpIF8_jnS"
      },
      "outputs": [],
      "source": [
        "#Data Analysis on Wine Quality Dataset- 20/06/2024"
      ]
    },
    {
      "cell_type": "code",
      "source": [
        "import pandas as pd\n",
        "\n",
        "wine_data = pd.read_csv('winequalityN.csv')\n",
        "\n",
        "print(wine_data.head())\n",
        "print(wine_data.info())"
      ],
      "metadata": {
        "colab": {
          "base_uri": "https://localhost:8080/"
        },
        "id": "0iz65-KzHNET",
        "outputId": "7d39dcdb-ff05-4e3d-a5c3-4d098967455d"
      },
      "execution_count": 1,
      "outputs": [
        {
          "output_type": "stream",
          "name": "stdout",
          "text": [
            "    type  fixed acidity  volatile acidity  citric acid  residual sugar  \\\n",
            "0  white            7.0              0.27         0.36            20.7   \n",
            "1  white            6.3              0.30         0.34             1.6   \n",
            "2  white            8.1              0.28         0.40             6.9   \n",
            "3  white            7.2              0.23         0.32             8.5   \n",
            "4  white            7.2              0.23         0.32             8.5   \n",
            "\n",
            "   chlorides  free sulfur dioxide  total sulfur dioxide  density    pH  \\\n",
            "0      0.045                 45.0                 170.0   1.0010  3.00   \n",
            "1      0.049                 14.0                 132.0   0.9940  3.30   \n",
            "2      0.050                 30.0                  97.0   0.9951  3.26   \n",
            "3      0.058                 47.0                 186.0   0.9956  3.19   \n",
            "4      0.058                 47.0                 186.0   0.9956  3.19   \n",
            "\n",
            "   sulphates  alcohol  quality  \n",
            "0       0.45      8.8        6  \n",
            "1       0.49      9.5        6  \n",
            "2       0.44     10.1        6  \n",
            "3       0.40      9.9        6  \n",
            "4       0.40      9.9        6  \n",
            "<class 'pandas.core.frame.DataFrame'>\n",
            "RangeIndex: 6497 entries, 0 to 6496\n",
            "Data columns (total 13 columns):\n",
            " #   Column                Non-Null Count  Dtype  \n",
            "---  ------                --------------  -----  \n",
            " 0   type                  6497 non-null   object \n",
            " 1   fixed acidity         6487 non-null   float64\n",
            " 2   volatile acidity      6489 non-null   float64\n",
            " 3   citric acid           6494 non-null   float64\n",
            " 4   residual sugar        6495 non-null   float64\n",
            " 5   chlorides             6495 non-null   float64\n",
            " 6   free sulfur dioxide   6497 non-null   float64\n",
            " 7   total sulfur dioxide  6497 non-null   float64\n",
            " 8   density               6497 non-null   float64\n",
            " 9   pH                    6488 non-null   float64\n",
            " 10  sulphates             6493 non-null   float64\n",
            " 11  alcohol               6497 non-null   float64\n",
            " 12  quality               6497 non-null   int64  \n",
            "dtypes: float64(11), int64(1), object(1)\n",
            "memory usage: 660.0+ KB\n",
            "None\n"
          ]
        }
      ]
    },
    {
      "cell_type": "code",
      "source": [
        "from sklearn.impute import SimpleImputer\n",
        "\n",
        "X = wine_data.drop('quality', axis=1)\n",
        "y = wine_data['quality']\n",
        "\n",
        "numerical_cols = X.select_dtypes(include=['number']).columns\n",
        "categorical_cols = X.select_dtypes(include=['object']).columns\n",
        "\n",
        "numerical_imputer = SimpleImputer(strategy='median')\n",
        "X[numerical_cols] = numerical_imputer.fit_transform(X[numerical_cols])\n",
        "\n",
        "categorical_imputer = SimpleImputer(strategy='most_frequent')\n",
        "X[categorical_cols] = categorical_imputer.fit_transform(X[categorical_cols])\n",
        "\n",
        "print(X.isnull().sum())"
      ],
      "metadata": {
        "colab": {
          "base_uri": "https://localhost:8080/"
        },
        "id": "UzNitV8PJGsT",
        "outputId": "c7865ed6-4f44-42b1-9b6a-49f7d5303056"
      },
      "execution_count": 10,
      "outputs": [
        {
          "output_type": "stream",
          "name": "stdout",
          "text": [
            "type                    0\n",
            "fixed acidity           0\n",
            "volatile acidity        0\n",
            "citric acid             0\n",
            "residual sugar          0\n",
            "chlorides               0\n",
            "free sulfur dioxide     0\n",
            "total sulfur dioxide    0\n",
            "density                 0\n",
            "pH                      0\n",
            "sulphates               0\n",
            "alcohol                 0\n",
            "dtype: int64\n"
          ]
        }
      ]
    },
    {
      "cell_type": "code",
      "source": [
        "from sklearn.preprocessing import OneHotEncoder\n",
        "\n",
        "encoder = OneHotEncoder(drop='first', sparse=False, handle_unknown='ignore')\n",
        "X_encoded = pd.DataFrame(encoder.fit_transform(X[categorical_cols]))\n",
        "X_encoded.columns = encoder.get_feature_names_out(categorical_cols)\n",
        "\n",
        "X.drop(categorical_cols, axis=1, inplace=True)\n",
        "X = pd.concat([X, X_encoded], axis=1)\n",
        "\n",
        "print(X.head())"
      ],
      "metadata": {
        "colab": {
          "base_uri": "https://localhost:8080/"
        },
        "id": "0kV4DJsIJdBa",
        "outputId": "37eace92-c2d5-4c0d-f5f2-d14dd58c1a67"
      },
      "execution_count": 12,
      "outputs": [
        {
          "output_type": "stream",
          "name": "stdout",
          "text": [
            "   fixed acidity  volatile acidity  citric acid  residual sugar  chlorides  \\\n",
            "0            7.0              0.27         0.36            20.7      0.045   \n",
            "1            6.3              0.30         0.34             1.6      0.049   \n",
            "2            8.1              0.28         0.40             6.9      0.050   \n",
            "3            7.2              0.23         0.32             8.5      0.058   \n",
            "4            7.2              0.23         0.32             8.5      0.058   \n",
            "\n",
            "   free sulfur dioxide  total sulfur dioxide  density    pH  sulphates  \\\n",
            "0                 45.0                 170.0   1.0010  3.00       0.45   \n",
            "1                 14.0                 132.0   0.9940  3.30       0.49   \n",
            "2                 30.0                  97.0   0.9951  3.26       0.44   \n",
            "3                 47.0                 186.0   0.9956  3.19       0.40   \n",
            "4                 47.0                 186.0   0.9956  3.19       0.40   \n",
            "\n",
            "   alcohol  type_white  \n",
            "0      8.8         1.0  \n",
            "1      9.5         1.0  \n",
            "2     10.1         1.0  \n",
            "3      9.9         1.0  \n",
            "4      9.9         1.0  \n"
          ]
        },
        {
          "output_type": "stream",
          "name": "stderr",
          "text": [
            "/usr/local/lib/python3.10/dist-packages/sklearn/preprocessing/_encoders.py:868: FutureWarning: `sparse` was renamed to `sparse_output` in version 1.2 and will be removed in 1.4. `sparse_output` is ignored unless you leave `sparse` to its default value.\n",
            "  warnings.warn(\n"
          ]
        }
      ]
    },
    {
      "cell_type": "code",
      "source": [
        "from sklearn.preprocessing import StandardScaler\n",
        "\n",
        "scaler = StandardScaler()\n",
        "X[numerical_cols] = scaler.fit_transform(X[numerical_cols])\n",
        "\n",
        "print(X.head())"
      ],
      "metadata": {
        "colab": {
          "base_uri": "https://localhost:8080/"
        },
        "id": "8M6CzBXzKDGy",
        "outputId": "695dea46-57fa-447a-9fa8-6632404c9bd2"
      },
      "execution_count": 13,
      "outputs": [
        {
          "output_type": "stream",
          "name": "stdout",
          "text": [
            "   fixed acidity  volatile acidity  citric acid  residual sugar  chlorides  \\\n",
            "0      -0.166898         -0.423168     0.284273        3.207005  -0.315139   \n",
            "1      -0.707155         -0.240846     0.146551       -0.807946  -0.200946   \n",
            "2       0.682078         -0.362394     0.559716        0.306151  -0.172397   \n",
            "3      -0.012539         -0.666264     0.008829        0.642482   0.055989   \n",
            "4      -0.012539         -0.666264     0.008829        0.642482   0.055989   \n",
            "\n",
            "   free sulfur dioxide  total sulfur dioxide   density        pH  sulphates  \\\n",
            "0             0.815565              0.959976  2.102214 -1.359590  -0.545868   \n",
            "1            -0.931107              0.287618 -0.232332  0.508116  -0.276974   \n",
            "2            -0.029599             -0.331660  0.134525  0.259089  -0.613091   \n",
            "3             0.928254              1.243074  0.301278 -0.176709  -0.881985   \n",
            "4             0.928254              1.243074  0.301278 -0.176709  -0.881985   \n",
            "\n",
            "    alcohol  type_white  \n",
            "0 -1.418558         1.0  \n",
            "1 -0.831615         1.0  \n",
            "2 -0.328521         1.0  \n",
            "3 -0.496219         1.0  \n",
            "4 -0.496219         1.0  \n"
          ]
        }
      ]
    },
    {
      "cell_type": "code",
      "source": [
        "from sklearn.model_selection import train_test_split\n",
        "\n",
        "X_train, X_test, y_train, y_test = train_test_split(X, y, test_size=0.2, random_state=42)\n",
        "\n",
        "print(f'Training set: X_train shape={X_train.shape}, y_train shape={y_train.shape}')\n",
        "print(f'Test set: X_test shape={X_test.shape}, y_test shape={y_test.shape}')"
      ],
      "metadata": {
        "colab": {
          "base_uri": "https://localhost:8080/"
        },
        "id": "A1j7V73fKIOx",
        "outputId": "c8664007-7e66-476f-88da-43a9e4ba118c"
      },
      "execution_count": 16,
      "outputs": [
        {
          "output_type": "stream",
          "name": "stdout",
          "text": [
            "Training set: X_train shape=(5197, 12), y_train shape=(5197,)\n",
            "Test set: X_test shape=(1300, 12), y_test shape=(1300,)\n"
          ]
        }
      ]
    },
    {
      "cell_type": "code",
      "source": [
        "#Linear Regression\n",
        "from sklearn.linear_model import LinearRegression\n",
        "from sklearn.metrics import mean_squared_error, r2_score\n",
        "\n",
        "lr_model = LinearRegression()\n",
        "lr_model.fit(X_train, y_train)\n",
        "\n",
        "y_pred_lr = lr_model.predict(X_test)\n",
        "\n",
        "mse_lr = mean_squared_error(y_test, y_pred_lr)\n",
        "r2_lr = r2_score(y_test, y_pred_lr)\n",
        "\n",
        "print('Linear Regression:')\n",
        "print(f'Mean Squared Error: {mse_lr}')\n",
        "print(f'R^2 Score: {r2_lr}')"
      ],
      "metadata": {
        "colab": {
          "base_uri": "https://localhost:8080/"
        },
        "id": "B9U3lQ23KaWj",
        "outputId": "0bf870a1-5dc4-4c62-db22-9317e953805e"
      },
      "execution_count": 17,
      "outputs": [
        {
          "output_type": "stream",
          "name": "stdout",
          "text": [
            "Linear Regression:\n",
            "Mean Squared Error: 0.47119110923082663\n",
            "R^2 Score: 0.3408065203047844\n"
          ]
        }
      ]
    },
    {
      "cell_type": "code",
      "source": [
        "#Decision Tree\n",
        "from sklearn.tree import DecisionTreeRegressor\n",
        "\n",
        "dt_model = DecisionTreeRegressor(random_state=42)\n",
        "dt_model.fit(X_train, y_train)\n",
        "\n",
        "y_pred_dt = dt_model.predict(X_test)\n",
        "\n",
        "mse_dt = mean_squared_error(y_test, y_pred_dt)\n",
        "r2_dt = r2_score(y_test, y_pred_dt)\n",
        "\n",
        "print('\\nDecision Tree:')\n",
        "print(f'Mean Squared Error: {mse_dt}')\n",
        "print(f'R^2 Score: {r2_dt}')"
      ],
      "metadata": {
        "colab": {
          "base_uri": "https://localhost:8080/"
        },
        "id": "ykXITcHNKv0L",
        "outputId": "bd433757-8498-41aa-a4dc-c4d92f7d135a"
      },
      "execution_count": 18,
      "outputs": [
        {
          "output_type": "stream",
          "name": "stdout",
          "text": [
            "\n",
            "Decision Tree:\n",
            "Mean Squared Error: 0.6046153846153847\n",
            "R^2 Score: 0.15414677515353747\n"
          ]
        }
      ]
    },
    {
      "cell_type": "code",
      "source": [
        "#Random Forest\n",
        "from sklearn.ensemble import RandomForestRegressor\n",
        "\n",
        "rf_model = RandomForestRegressor(random_state=42)\n",
        "rf_model.fit(X_train, y_train)\n",
        "\n",
        "y_pred_rf = rf_model.predict(X_test)\n",
        "\n",
        "mse_rf = mean_squared_error(y_test, y_pred_rf)\n",
        "r2_rf = r2_score(y_test, y_pred_rf)\n",
        "\n",
        "print('\\nRandom Forest:')\n",
        "print(f'Mean Squared Error: {mse_rf}')\n",
        "print(f'R^2 Score: {r2_rf}')"
      ],
      "metadata": {
        "colab": {
          "base_uri": "https://localhost:8080/"
        },
        "id": "fc0XkEHpK_YK",
        "outputId": "e0d56d82-276c-4bda-b851-6364ced0beba"
      },
      "execution_count": 19,
      "outputs": [
        {
          "output_type": "stream",
          "name": "stdout",
          "text": [
            "\n",
            "Random Forest:\n",
            "Mean Squared Error: 0.3179442307692308\n",
            "R^2 Score: 0.5551979659125621\n"
          ]
        }
      ]
    },
    {
      "cell_type": "code",
      "source": [
        "#SVM\n",
        "from sklearn.svm import SVR\n",
        "\n",
        "svm_model = SVR()\n",
        "svm_model.fit(X_train, y_train)\n",
        "\n",
        "y_pred_svm = svm_model.predict(X_test)\n",
        "\n",
        "mse_svm = mean_squared_error(y_test, y_pred_svm)\n",
        "r2_svm = r2_score(y_test, y_pred_svm)\n",
        "\n",
        "print('\\nSupport Vector Machine (SVM):')\n",
        "print(f'Mean Squared Error: {mse_svm}')\n",
        "print(f'R^2 Score: {r2_svm}')"
      ],
      "metadata": {
        "colab": {
          "base_uri": "https://localhost:8080/"
        },
        "id": "piDwKXYTLKJB",
        "outputId": "0f2bcd97-db1f-4ddd-ba11-b4441fdf359b"
      },
      "execution_count": 20,
      "outputs": [
        {
          "output_type": "stream",
          "name": "stdout",
          "text": [
            "\n",
            "Support Vector Machine (SVM):\n",
            "Mean Squared Error: 0.41127984774335224\n",
            "R^2 Score: 0.4246220086685756\n"
          ]
        }
      ]
    },
    {
      "cell_type": "code",
      "source": [
        "#Gradient Boosting\n",
        "from sklearn.ensemble import GradientBoostingRegressor\n",
        "\n",
        "gb_model = GradientBoostingRegressor(random_state=42)\n",
        "gb_model.fit(X_train, y_train)\n",
        "\n",
        "y_pred_gb = gb_model.predict(X_test)\n",
        "\n",
        "mse_gb = mean_squared_error(y_test, y_pred_gb)\n",
        "r2_gb = r2_score(y_test, y_pred_gb)\n",
        "\n",
        "print('\\nGradient Boosting:')\n",
        "print(f'Mean Squared Error: {mse_gb}')\n",
        "print(f'R^2 Score: {r2_gb}')"
      ],
      "metadata": {
        "colab": {
          "base_uri": "https://localhost:8080/"
        },
        "id": "Cxhy7lR8LSZj",
        "outputId": "dd37e037-05a8-4580-e769-718816aba408"
      },
      "execution_count": 21,
      "outputs": [
        {
          "output_type": "stream",
          "name": "stdout",
          "text": [
            "\n",
            "Gradient Boosting:\n",
            "Mean Squared Error: 0.41430134183286527\n",
            "R^2 Score: 0.42039495691881745\n"
          ]
        }
      ]
    },
    {
      "cell_type": "code",
      "source": [
        "#KNN\n",
        "from sklearn.neighbors import KNeighborsRegressor\n",
        "\n",
        "knn_model = KNeighborsRegressor()\n",
        "knn_model.fit(X_train, y_train)\n",
        "\n",
        "y_pred_knn = knn_model.predict(X_test)\n",
        "\n",
        "mse_knn = mean_squared_error(y_test, y_pred_knn)\n",
        "r2_knn = r2_score(y_test, y_pred_knn)\n",
        "\n",
        "print('\\nK-Nearest Neighbors (KNN):')\n",
        "print(f'Mean Squared Error: {mse_knn}')\n",
        "print(f'R^2 Score: {r2_knn}')"
      ],
      "metadata": {
        "colab": {
          "base_uri": "https://localhost:8080/"
        },
        "id": "oqtuF1GBLkWD",
        "outputId": "d5d7e695-f5d0-486b-eef6-71ec161e3b0d"
      },
      "execution_count": 22,
      "outputs": [
        {
          "output_type": "stream",
          "name": "stdout",
          "text": [
            "\n",
            "K-Nearest Neighbors (KNN):\n",
            "Mean Squared Error: 0.4674153846153845\n",
            "R^2 Score: 0.346088735946941\n"
          ]
        }
      ]
    },
    {
      "cell_type": "code",
      "source": [
        "'''\n",
        "Sice the MSE and R^2 for Random Forest has the lowest value\n",
        "(Mean Squared Error: 0.3179442307692308, R^2 Score: 0.5551979659125621)\n",
        "it is the best algorithm for regression on the Wine_Quality Dataset\n",
        "'''"
      ],
      "metadata": {
        "id": "3Hv70F9WL9Lc"
      },
      "execution_count": null,
      "outputs": []
    },
    {
      "cell_type": "code",
      "source": [
        "# Plotting actual vs predicted values using Random Forest Algorithm\n",
        "\n",
        "import matplotlib.pyplot as plt\n",
        "import numpy as np\n",
        "\n",
        "plt.figure(figsize=(10, 6))\n",
        "plt.scatter(y_test, y_pred_rf, color='blue', label='Actual vs Predicted')\n",
        "plt.plot([min(y_test), max(y_test)], [min(y_test), max(y_test)], linestyle='--', color='red', label='Perfect Prediction')\n",
        "plt.xlabel('Actual Wine Quality')\n",
        "plt.ylabel('Predicted Wine Quality')\n",
        "plt.title('Actual vs Predicted Wine Quality (Random Forest)')\n",
        "plt.legend()\n",
        "plt.show()"
      ],
      "metadata": {
        "colab": {
          "base_uri": "https://localhost:8080/",
          "height": 564
        },
        "id": "MaFU5AcZMbM8",
        "outputId": "f4f340d8-9caa-4303-959e-b493f9d3c1c8"
      },
      "execution_count": 24,
      "outputs": [
        {
          "output_type": "display_data",
          "data": {
            "text/plain": [
              "<Figure size 1000x600 with 1 Axes>"
            ],
            "image/png": "[encoded data removed]"
          },
          "metadata": {}
        }
      ]
    }
  ]
}